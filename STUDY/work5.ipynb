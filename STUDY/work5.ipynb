{
 "cells": [
  {
   "cell_type": "markdown",
   "metadata": {},
   "source": [
    "学习如何使用pytorch将数据在GPU和CPU间切换\n",
    "模型的转换\n",
    " model = Model()\n",
    " model.to(device)\n",
    "数据的转换\n",
    "dada = data.to(device)"
   ]
  },
  {
   "cell_type": "markdown",
   "metadata": {},
   "source": [
    "学习如何使用pytorch实现三层全连接模型\n",
    "    三层全连接模型包括一个输入层、两个隐藏层和一个输出层\n",
    "\n",
    "模型定义使用torch.nn.Module"
   ]
  },
  {
   "cell_type": "code",
   "execution_count": null,
   "metadata": {},
   "outputs": [],
   "source": [
    "import torch\n",
    "import torch.nn as nn\n"
   ]
  }
 ],
 "metadata": {
  "kernelspec": {
   "display_name": "lwg",
   "language": "python",
   "name": "python3"
  },
  "language_info": {
   "name": "python",
   "version": "3.10.14"
  }
 },
 "nbformat": 4,
 "nbformat_minor": 2
}
