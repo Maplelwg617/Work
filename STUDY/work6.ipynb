{
 "cells": [
  {
   "cell_type": "code",
   "execution_count": 1,
   "metadata": {},
   "outputs": [],
   "source": [
    "import torch\n",
    "import os\n",
    "import torchvision.transforms as transforms\n",
    "from torchvision.datasets import ImageFolder\n",
    "from torch.utils.data import DataLoader, random_split, Dataset\n",
    "from PIL import Image"
   ]
  },
  {
   "cell_type": "code",
   "execution_count": null,
   "metadata": {},
   "outputs": [],
   "source": [
    "class CatDogDataset(Dataset):\n",
    "    def __init__(self, data_dir, transform=None):\n",
    "        self.data_dir = data_dir\n",
    "        self.file_names = [f for f in os.listdir(data_dir) if f.endswith(('.jpg', '.png', '.jpeg'))]\n",
    "        self.transform = transform\n",
    "\n",
    "    def __len__(self):\n",
    "        return len(self.file_names)\n",
    "\n",
    "    def __getitem__(self, idx):\n",
    "        file_name = self.file_names[idx]\n",
    "        label = 1 if 'dog' in file_name else 0  \n",
    "        img_path = os.path.join(self.data_dir, file_name)\n",
    "        image = Image.open(img_path).convert(\"RGB\")\n",
    "        \n",
    "        if self.transform:\n",
    "            image = self.transform(image)\n",
    "        return image, label\n",
    "\n",
    "transform = transforms.Compose([transforms.Resize((128, 128)), transforms.ToTensor(), transforms.Normalize(mean=[0.5], std=[0.5])])\n",
    "data_dir = r'D:\\AI\\study1\\data\\train1\\train'\n",
    "dataset = CatDogDataset(data_dir, transform=transform)\n",
    "train_size = int(0.8 * len(dataset))\n",
    "test_size = len(dataset) - train_size\n",
    "train_dataset, test_dataset = random_split(dataset, [train_size, test_size])\n",
    "train_loader = DataLoader(train_dataset, batch_size=32, shuffle=True)\n",
    "test_loader = DataLoader(test_dataset, batch_size=32, shuffle=False)"
   ]
  },
  {
   "cell_type": "code",
   "execution_count": null,
   "metadata": {},
   "outputs": [],
   "source": [
    "import torch.nn as nn\n",
    "class CNN_model(nn.Module):\n",
    "    def __init__(self):\n",
    "        super(CNN_model, self).__init__()\n",
    "        self.conv_layers = nn.Sequential(\n",
    "            nn.Conv2d(3, 16, kernel_size=3, stride=1, padding=1),\n",
    "            nn.ReLU(),\n",
    "            nn.MaxPool2d(kernel_size = 2, stride=2),\n",
    "            nn.Conv2d(16, 32, kernel_size=3, stride=1, padding=1),\n",
    "            nn.ReLU(),\n",
    "            nn.MaxPool2d(kernel_size=2, stride=2),\n",
    "            nn.Conv2d(32, 64, kernel_size=3, stride=1, padding=1),\n",
    "            nn.ReLU(),\n",
    "            nn.MaxPool2d(kernel_size=2, stride=2)\n",
    "        )\n",
    "        self.fc_layers = nn.Sequential(\n",
    "            nn.Flatten(),\n",
    "            nn.Linear(64 * 16 * 16, 128),\n",
    "            nn.ReLU(),\n",
    "            nn.Linear(128, 64),\n",
    "            nn.ReLU(),\n",
    "            nn.Linear(64,2)\n",
    "        )\n",
    "    def forward(self, x):\n",
    "        x = self.conv_layers(x)\n",
    "        x = self.fc_layers(x)\n",
    "        return x"
   ]
  },
  {
   "cell_type": "code",
   "execution_count": 4,
   "metadata": {},
   "outputs": [],
   "source": [
    "import torch.optim as optim\n",
    "device = torch.device('cuda' if torch.cuda.is_available() else 'cpu')\n",
    "model = CNN_model().to(device)\n",
    "criterion = nn.CrossEntropyLoss()\n",
    "optimzer = optim.Adam(model.parameters(), lr=0.001)\n",
    "\n",
    "def train(model, loader, criterion, optimzer):\n",
    "    model.train()\n",
    "    train_loss, train_correct, train_total = 0.0, 0, 0\n",
    "    for inputs ,labels in loader:\n",
    "        inputs, labels = inputs.to(device), labels.to(device)\n",
    "        optimzer.zero_grad()\n",
    "        outputs = model(inputs)\n",
    "        loss = criterion(outputs, labels)\n",
    "        loss.backward()\n",
    "        optimzer.step()\n",
    "        train_loss += loss.item() * inputs.size(0)\n",
    "        _, preds = torch.max(outputs, 1)\n",
    "        train_correct += (preds == labels).sum().item()\n",
    "        train_total +=labels.size(0)\n",
    "    return train_loss / len(loader), train_correct / train_total"
   ]
  },
  {
   "cell_type": "code",
   "execution_count": 5,
   "metadata": {},
   "outputs": [],
   "source": [
    "def test(model, loader, criterion):\n",
    "    model.eval()\n",
    "    val_loss = 0.0\n",
    "    correct = 0\n",
    "    total = 0\n",
    "    with torch.no_grad():\n",
    "        for inputs, labels in loader:\n",
    "            inputs, labels = inputs.to(device), labels.to(device)\n",
    "            outputs = model(inputs)\n",
    "            loss = criterion(outputs, labels)\n",
    "            val_loss += loss.item() * inputs.size(0)\n",
    "            _, predicted = torch.max(outputs, 1)\n",
    "            total += labels.size(0)\n",
    "            correct += (predicted == labels).sum().item()\n",
    "    accuracy = correct / total\n",
    "    return val_loss / len(loader), accuracy"
   ]
  },
  {
   "cell_type": "code",
   "execution_count": 49,
   "metadata": {},
   "outputs": [
    {
     "name": "stdout",
     "output_type": "stream",
     "text": [
      "Epoch 1 / 10\n",
      "Train Loss : 4.8677, 0.9395\n",
      "Test Loss :4.2865, Train Accuracy:0.9469\n",
      "Epoch 2 / 10\n",
      "Train Loss : 4.9413, 0.9396\n",
      "Test Loss :4.6733, Train Accuracy:0.9426\n",
      "Epoch 3 / 10\n",
      "Train Loss : 4.8728, 0.9387\n",
      "Test Loss :4.2541, Train Accuracy:0.9446\n",
      "Epoch 4 / 10\n",
      "Train Loss : 4.9567, 0.9385\n",
      "Test Loss :4.3502, Train Accuracy:0.9457\n",
      "Epoch 5 / 10\n",
      "Train Loss : 4.9790, 0.9382\n",
      "Test Loss :4.1791, Train Accuracy:0.9474\n",
      "Epoch 6 / 10\n",
      "Train Loss : 4.8058, 0.9407\n",
      "Test Loss :4.6471, Train Accuracy:0.9403\n",
      "Epoch 7 / 10\n",
      "Train Loss : 4.7596, 0.9393\n",
      "Test Loss :4.5106, Train Accuracy:0.9436\n",
      "Epoch 8 / 10\n",
      "Train Loss : 4.8465, 0.9424\n",
      "Test Loss :4.2318, Train Accuracy:0.9472\n",
      "Epoch 9 / 10\n",
      "Train Loss : 4.8457, 0.9409\n",
      "Test Loss :4.2170, Train Accuracy:0.9488\n",
      "Epoch 10 / 10\n",
      "Train Loss : 4.8900, 0.9392\n",
      "Test Loss :4.2275, Train Accuracy:0.9461\n"
     ]
    }
   ],
   "source": [
    "num_epochs = 10\n",
    "for epoch in range(num_epochs):\n",
    "    train_loss, train_cc = train(model, train_loader, criterion, optimzer)\n",
    "    test_loss, test_accuracy = test(model, train_loader, criterion)\n",
    "    print(f'Epoch {epoch + 1} / {num_epochs}')\n",
    "    print(f'Train Loss : {train_loss:.4f}, {train_cc:.4f}')\n",
    "    print(f'Test Loss :{test_loss:.4f}, Train Accuracy:{test_accuracy:.4f}')"
   ]
  },
  {
   "cell_type": "code",
   "execution_count": null,
   "metadata": {},
   "outputs": [],
   "source": [
    "def predict(model, image_path, transform):\n",
    "    model.eval()\n",
    "    image = Image.open(image_path).convert(\"RGB\")\n",
    "    image = transform(image).unsqueeze(0) \n",
    "    image =  image.to(device)\n",
    "    with torch.no_grad():\n",
    "        output = model(image)\n",
    "        _, pred = torch.max(output, 1)\n",
    "    return \"dog\" if pred.item() == 1 else \"cat\"\n",
    "\n",
    "test_image = r\"D:\\AI\\study1\\data\\test\\test1\\273.jpg\"\n",
    "print(f\"Prediction: {predict(model, test_image, transform)}\")"
   ]
  }
 ],
 "metadata": {
  "kernelspec": {
   "display_name": "lwg",
   "language": "python",
   "name": "python3"
  },
  "language_info": {
   "codemirror_mode": {
    "name": "ipython",
    "version": 3
   },
   "file_extension": ".py",
   "mimetype": "text/x-python",
   "name": "python",
   "nbconvert_exporter": "python",
   "pygments_lexer": "ipython3",
   "version": "3.10.14"
  }
 },
 "nbformat": 4,
 "nbformat_minor": 2
}
