{
 "cells": [
  {
   "cell_type": "markdown",
   "metadata": {},
   "source": [
    "创建、修改和保存fits文件"
   ]
  },
  {
   "cell_type": "code",
   "execution_count": null,
   "metadata": {},
   "outputs": [],
   "source": [
    "from astropy.io import fits\n",
    "from datetime import datetime\n",
    "primaryhdul = fits.PrimaryHDU()\n",
    "primaryhdul.header['DATA'] = datetime.now().strftime('%Y-%m-%dT%H:%M:%S')\n",
    "primaryhdul.header['CREATOR'] = 'LWG'\n",
    "import numpy as np\n",
    "data = np.random.random((100,100))\n",
    "imagehdul = fits.ImageHDU(data)\n",
    "hdul = fits.HDUList([primaryhdul, imagehdul])\n",
    "hdul.writeto('work2.fits', overwrite=True)"
   ]
  },
  {
   "cell_type": "markdown",
   "metadata": {},
   "source": [
    "将其图像数据改为原来的对数，并存入重新命名的fits文件"
   ]
  },
  {
   "cell_type": "code",
   "execution_count": null,
   "metadata": {},
   "outputs": [],
   "source": [
    "import numpy as np\n",
    "filename = fits.util.get_testdata_filepath('test0.fits')\n",
    "with fits.open(filename, memmap=True) as hdulist1:\n",
    "    imagedata = hdulist1[1].data\n",
    "    logdata = np.log(imagedata)\n",
    "imagehdul1 = fits.ImageHDU(logdata)\n",
    "hdul1 = fits.HDUList([fits.PrimaryHDU(),imagehdul1])\n",
    "hdul1.writeto('fits2.fits', overwrite=True)"
   ]
  },
  {
   "cell_type": "markdown",
   "metadata": {},
   "source": [
    "新建一个Image HDU并直接将其存为fits文件"
   ]
  },
  {
   "cell_type": "code",
   "execution_count": null,
   "metadata": {},
   "outputs": [],
   "source": [
    "data = np.random.random((100,100))\n",
    "Image_HDU = fits.ImageHDU(data)\n",
    "new_fits = fits.HDUList([fits.PrimaryHDU(),Image_HDU])\n",
    "new_fits.writeto('fits2', overwrite=True)"
   ]
  },
  {
   "cell_type": "markdown",
   "metadata": {},
   "source": [
    "读取整个fits文件，并输出所有储存的内容"
   ]
  },
  {
   "cell_type": "code",
   "execution_count": null,
   "metadata": {},
   "outputs": [],
   "source": [
    "from astropy.io import fits\n",
    "filename = fits.util.get_testdata_filepath('test0.fits')\n",
    "hdul = fits.open(filename)\n",
    "hdul.info()\n",
    "for hdu in hdul:\n",
    "    print(hdu.header)\n",
    "    print(hdu.data)\n",
    "hdul.close()"
   ]
  },
  {
   "cell_type": "markdown",
   "metadata": {},
   "source": [
    "在不载入整个fits文件的情况下，读取某个fits文件的某个头文件或某个data"
   ]
  },
  {
   "cell_type": "code",
   "execution_count": null,
   "metadata": {},
   "outputs": [],
   "source": [
    "with fits.open(filename, memmap=True) as hdul:\n",
    "    header = hdul[0].header\n",
    "    print(header)\n",
    "    data = hdul[1].data\n",
    "    print(data)"
   ]
  },
  {
   "cell_type": "code",
   "execution_count": null,
   "metadata": {},
   "outputs": [],
   "source": [
    "pip install ipykernel"
   ]
  }
 ],
 "metadata": {
  "kernelspec": {
   "display_name": ".venv",
   "language": "python",
   "name": "python3"
  },
  "language_info": {
   "codemirror_mode": {
    "name": "ipython",
    "version": 3
   },
   "file_extension": ".py",
   "mimetype": "text/x-python",
   "name": "python",
   "nbconvert_exporter": "python",
   "pygments_lexer": "ipython3",
   "version": "3.12.4"
  }
 },
 "nbformat": 4,
 "nbformat_minor": 2
}
